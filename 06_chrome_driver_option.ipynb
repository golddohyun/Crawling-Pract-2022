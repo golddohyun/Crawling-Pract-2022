{
 "cells": [
  {
   "cell_type": "markdown",
   "id": "dec1cbc4",
   "metadata": {},
   "source": [
    "# <option 활용>\n",
    "chrome_options = webdriver.ChromeOptions()\n",
    "\n",
    "### f11 눌렀을 때 풀스크린\n",
    "chrome_options.add_argument('--start-fullscreen')\n",
    "\n",
    "### 창의 사이즈 조정(띄어쓰기 하지 말 것)\n",
    "chrome_options.add_argument('--window-size=360,640')\n",
    "\n",
    "### 창 안보이게 함, 백그라운드로 웹페이지를 실행할 때 사용\n",
    "### 간혹 거부되거나 요소가 없을 수 있음 : 거부되면 아래처럼 header조건 추가, 요소가 없다면 sleep 넣어줄 것\n",
    "chrome_options.add_argument('headless')  \n",
    "chrome_options.add_argument('user-agent=Mozilla/5.0 (Windows NT 10.0; Win64; x64) AppleWebKit/537.36 (KHTML, like Gecko) Chrome/102.0.5005.63 Safari/537.36')"
   ]
  },
  {
   "cell_type": "code",
   "execution_count": null,
   "id": "5bbcbe85",
   "metadata": {},
   "outputs": [],
   "source": [
    "from selenium import webdriver\n",
    "from selenium.webdriver.common.by import By\n",
    "from selenium.webdriver.common.keys import Keys\n",
    "from time import sleep\n",
    "\n",
    "chrome_options = webdriver.ChromeOptions()\n",
    "chrome_options.add_argument('--window-size=360,800') \n",
    "\n",
    "\n",
    "## 웹 드라이버 실행\n",
    "driver = webdriver.Chrome(options=chrome_options)\n",
    "print('1. 크롬 웹 드라이버 실행')\n",
    "\n",
    "\n",
    "## 검색창 띄우기\n",
    "url = 'https://www.w3schools.com/'\n",
    "driver.get(url)\n",
    "sleep(2)\n",
    "print('2. W3School 웹 페이지 실행')\n",
    "\n",
    "\n",
    "## 검색창에 input 검색\n",
    "input_text = driver.find_element(by=By.XPATH, value ='//*[@id=\"nav_search_btn\"]').click()\n",
    "sleep(2)\n",
    "\n",
    "search_input = driver.find_element(by=By.XPATH, value = '//*[@id=\"gsc-i-id1\"]')\n",
    "search_input.send_keys('input')\n",
    "sleep(2)\n",
    "search_input.send_keys(Keys.RETURN)\n",
    "sleep(2)\n",
    "print('3. W3School 검색창에 input 텍스트 입력')\n",
    "\n",
    "\n",
    "## input 결과창 닫기\n",
    "driver.find_element(by=By.XPATH, value='//*[@id=\"___gcse_0\"]/div/div/div[1]/div[1]').click()\n",
    "sleep(2)\n",
    "search_input.clear()\n",
    "sleep(2)\n",
    "print('4. input 검색 결과창 닫기')\n",
    "\n",
    "\n",
    "## 검색창에 임의의 텍스트 입력 및 삭제\n",
    "search_input.send_keys('그냥 입력했어요....')\n",
    "sleep(2)\n",
    "search_input.clear()\n",
    "print('5. 임의의 텍스트 입력 및 삭제')\n",
    "\n",
    "sleep(3)\n",
    "\n",
    "## 웹 브라우저 닫기 : close보다 quit 사용을 권장\n",
    "#driver.close()\n",
    "driver.quit()"
   ]
  }
 ],
 "metadata": {
  "kernelspec": {
   "display_name": "ex_kernel",
   "language": "python",
   "name": "ex"
  },
  "language_info": {
   "codemirror_mode": {
    "name": "ipython",
    "version": 3
   },
   "file_extension": ".py",
   "mimetype": "text/x-python",
   "name": "python",
   "nbconvert_exporter": "python",
   "pygments_lexer": "ipython3",
   "version": "3.8.13"
  }
 },
 "nbformat": 4,
 "nbformat_minor": 5
}
