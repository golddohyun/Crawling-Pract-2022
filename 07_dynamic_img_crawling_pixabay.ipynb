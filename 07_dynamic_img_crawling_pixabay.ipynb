{
 "cells": [
  {
   "cell_type": "markdown",
   "id": "a8eeaf12",
   "metadata": {},
   "source": [
    "## 자동화된 이미지 크롤링 및 폴더 저장"
   ]
  },
  {
   "attachments": {
    "%ED%99%94%EB%A9%B4%20%EC%BA%A1%EC%B2%98%202022-05-30%20131903.jpg": {
     "image/jpeg": "[encoded data removed]"
    }
   },
   "cell_type": "markdown",
   "id": "10d95cfd",
   "metadata": {},
   "source": [
    "* input 함수를 이용한 검색어 입력\n",
    "* 검색어에 따라 총 페이지 수가 자동 변경되도록 코드 작성\n",
    "![%ED%99%94%EB%A9%B4%20%EC%BA%A1%EC%B2%98%202022-05-30%20131903.jpg](attachment:%ED%99%94%EB%A9%B4%20%EC%BA%A1%EC%B2%98%202022-05-30%20131903.jpg)\n",
    "* 자동으로 폴더 생성(if exists=true) 및 이미지 저장\n",
    "\n",
    "> *총 페이지 수 코드 작성>\n",
    "    ## 방법 1 : 파싱 후 select, 슬라이싱 \n",
    "    # html = driver.page_source\n",
    "    # soup = BeautifulSoup(html, 'html.parser')\n",
    "    # page = int(soup.select_one('div.container--3_1NG span').text[슬라이싱])\n",
    "    \n",
    "    ## 방법 2 : 총 페이지 수의 XPATH를 찾고 원하는 text를 추출하는 방식 \n",
    "    # driver.find_element와 replace를 활용\n",
    "\n",
    "<hr>"
   ]
  },
  {
   "cell_type": "code",
   "execution_count": 1,
   "id": "8060228a",
   "metadata": {},
   "outputs": [],
   "source": [
    "from selenium import webdriver\n",
    "from selenium.webdriver.common.by import By\n",
    "from selenium.webdriver.common.keys import Keys\n",
    "from time import sleep\n",
    "from bs4 import BeautifulSoup\n",
    "import requests\n",
    "import os"
   ]
  },
  {
   "cell_type": "code",
   "execution_count": 2,
   "id": "0d7c712c",
   "metadata": {},
   "outputs": [
    {
     "name": "stdout",
     "output_type": "stream",
     "text": [
      "검색어를 입력하세요 :구슬\n"
     ]
    }
   ],
   "source": [
    "options = webdriver.ChromeOptions()\n",
    "options.add_argument('--start-maximized')\n",
    "driver = webdriver.Chrome(options=options)\n",
    "\n",
    "url = 'https://pixabay.com/ko/'\n",
    "driver.get(url)\n",
    "sleep(2)\n",
    "\n",
    "## input함수를 활용한 검색어 입력\n",
    "input_text = driver.find_element(by=By.CSS_SELECTOR, value ='input.searchInput--37MDR')\n",
    "sleep(1)\n",
    "word = input('검색어를 입력하세요 :')\n",
    "input_text.send_keys(word)\n",
    "input_text.send_keys(Keys.RETURN)\n",
    "\n",
    "## 총 페이지 수 코드 작성\n",
    "page_element = driver.find_element(by=By.XPATH, value='//*[@id=\"app\"]/div[2]/div[1]/div/div[3]/div/span[1]')\n",
    "total_page = int(page_element.text.replace('/',''))"
   ]
  },
  {
   "cell_type": "markdown",
   "id": "7ceb506b",
   "metadata": {},
   "source": [
    "> *이미지 다운로드 메서드 정의\n",
    "    # alt속성이 있는 img태그의 엘리먼트 추출 \n",
    "    # img태그 내 src 링크 추출 ('src', 'data-lazy-src')\n",
    "    # byte형태의 링크를 이미지 파일로 저장 ('wb' mode file open-write)"
   ]
  },
  {
   "cell_type": "code",
   "execution_count": 3,
   "id": "c798b8a9",
   "metadata": {},
   "outputs": [],
   "source": [
    "## 디렉토리에 img 경로/폴더 생성\n",
    "word = '\\img'\n",
    "save_path = os.path.join('D:',word)\n",
    "os.makedirs(save_path, exist_ok=True)\n",
    "\n",
    "## 이미지 다운로드 메서드 정의\n",
    "def pagecrawl() :\n",
    "    html = driver.page_source\n",
    "    soup = BeautifulSoup(html, 'html.parser')\n",
    "    img_element = soup.select('img[alt]')\n",
    "           \n",
    "    for idx, img in enumerate(img_element, 1) :      \n",
    "        if img.get('data-lazy-src') :\n",
    "            src = img.get('data-lazy-src')\n",
    "        else :\n",
    "            src = img.get('src')\n",
    "        \n",
    "        file_name = os.path.join(save_path, f'p{current_page}_{idx}.jpg')  \n",
    "        img_resource = requests.get(src).content\n",
    "        with open(file_name, 'wb') as file :\n",
    "            file.write(img_resource)\n",
    "    sleep(1)"
   ]
  },
  {
   "cell_type": "code",
   "execution_count": 4,
   "id": "f8b2b3e7",
   "metadata": {},
   "outputs": [
    {
     "name": "stdout",
     "output_type": "stream",
     "text": [
      "<< 작업 완료 >>\n"
     ]
    }
   ],
   "source": [
    "## 페이지루프 + 전체 페이지의 이미지 다운로드\n",
    "for current_page in range(1, total_page+1) :\n",
    "    pagecrawl()\n",
    "    if current_page == 1 :\n",
    "        driver.find_element(by=By.XPATH, value='//*[@id=\"app\"]/div[2]/div[1]/div/div[3]/div/a').click()\n",
    "        sleep(1)\n",
    "    elif current_page == total_page :\n",
    "        break\n",
    "    else :\n",
    "        driver.find_element(by=By.XPATH, value='//*[@id=\"app\"]/div[2]/div[1]/div/div[3]/div/a[2]').click()\n",
    "        sleep(1)\n",
    "print('<< 작업 완료 >>')"
   ]
  }
 ],
 "metadata": {
  "kernelspec": {
   "display_name": "ex_kernel",
   "language": "python",
   "name": "ex"
  },
  "language_info": {
   "codemirror_mode": {
    "name": "ipython",
    "version": 3
   },
   "file_extension": ".py",
   "mimetype": "text/x-python",
   "name": "python",
   "nbconvert_exporter": "python",
   "pygments_lexer": "ipython3",
   "version": "3.8.13"
  }
 },
 "nbformat": 4,
 "nbformat_minor": 5
}
