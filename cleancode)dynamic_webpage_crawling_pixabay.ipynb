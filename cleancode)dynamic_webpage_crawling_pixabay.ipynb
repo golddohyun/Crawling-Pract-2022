{
 "cells": [
  {
   "cell_type": "code",
   "execution_count": 1,
   "id": "b7b68d96",
   "metadata": {},
   "outputs": [
    {
     "name": "stdout",
     "output_type": "stream",
     "text": [
      "<< img 폴더 생성 완료 >>\n",
      "<< 이미지 100개 저장 완료 >>\n"
     ]
    }
   ],
   "source": [
    "from selenium import webdriver\n",
    "from time import sleep\n",
    "from bs4 import BeautifulSoup\n",
    "import requests\n",
    "import os\n",
    "\n",
    "## 크롬 드라이버\n",
    "driver = webdriver.Chrome()\n",
    "\n",
    "## 픽사베이 페이지 요청 + 의도적 딜레이(요청 후 원활한 렌더링을 위해)\n",
    "url = 'https://pixabay.com/ko/images/search/%ED%95%98%EB%8A%98/'\n",
    "driver.get(url)\n",
    "sleep(3)\n",
    "\n",
    "## html 파일 요청 -> 파싱\n",
    "html = driver.page_source\n",
    "soup = BeautifulSoup(html, 'html.parser')\n",
    "\n",
    "## img element만 추출\n",
    "img_element = soup.select('img[alt]')\n",
    "\n",
    "\n",
    "## 디렉토리에 img 폴더 생성\n",
    "os.makedirs('img', exist_ok=True)\n",
    "print('<< img 폴더 생성 완료 >>')\n",
    "\n",
    "## 파일 저장 경로, 파일명 설정 및 사진 다운로드\n",
    "for idx, img in enumerate(img_element, 1) :\n",
    "    file_name = os.path.join('img', f'{idx}.jpg')\n",
    "    \n",
    "    if img.get('data-lazy-src') :\n",
    "        src = img.get('data-lazy-src')\n",
    "    else :\n",
    "        src = img.get('src')\n",
    "    \n",
    "#     img_resource = requests.get(src).content\n",
    "#     with open(file_name, 'wb') as file :\n",
    "#         file.write(img_resource)\n",
    "#     sleep(1)\n",
    "\n",
    "print(f'<< 이미지 {idx}개 저장 완료 >>')"
   ]
  }
 ],
 "metadata": {
  "kernelspec": {
   "display_name": "ex_kernel",
   "language": "python",
   "name": "ex"
  },
  "language_info": {
   "codemirror_mode": {
    "name": "ipython",
    "version": 3
   },
   "file_extension": ".py",
   "mimetype": "text/x-python",
   "name": "python",
   "nbconvert_exporter": "python",
   "pygments_lexer": "ipython3",
   "version": "3.8.13"
  }
 },
 "nbformat": 4,
 "nbformat_minor": 5
}
