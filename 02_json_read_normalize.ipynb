{
 "cells": [
  {
   "cell_type": "markdown",
   "id": "ef658f30",
   "metadata": {},
   "source": [
    "JSON\n",
    "- JavaScript Object Notation\n",
    "- 경량의 데이터 교환 방식\n",
    "- 사람이 읽고 쓰기 쉽고, 컴퓨터가 분석하고 생성하기 쉬움\n",
    "- 완벽하게 언어로부터 독립적. 특정 언어에 국한X\n",
    "- 데이터의 형태가 key:value쌍으로 구성됨"
   ]
  },
  {
   "cell_type": "markdown",
   "id": "e904f6ac",
   "metadata": {},
   "source": [
    "## <dictionary를 json 파일로 변환>\n",
    "### 방법 1 : dictionary(dict) -> str -> json파일"
   ]
  },
  {
   "cell_type": "markdown",
   "id": "73c3e926",
   "metadata": {},
   "source": [
    "01. dict 형태의 data를 str로 변경 : json.dumps()\n",
    "str_data = json.dumps(data)\n",
    "자료형 : str\n",
    "\n",
    "02. 파일열기 -> 쓰기를 통해 json 확장자로 저장\n",
    "with open('student.json', 'w') as file:\n",
    "    file.write(str_data)"
   ]
  },
  {
   "cell_type": "markdown",
   "id": "72fa807b",
   "metadata": {},
   "source": [
    "### 방법 2 : dictionary(dict) -> json파일"
   ]
  },
  {
   "cell_type": "markdown",
   "id": "17770f93",
   "metadata": {},
   "source": [
    "* 파일열기 -> 쓰기\n",
    "with open('student2.json', 'w') as file :\n",
    "    json.dump(data, file)"
   ]
  },
  {
   "cell_type": "markdown",
   "id": "5037c273",
   "metadata": {},
   "source": [
    "## <json 파일 읽기 (str 또는 dict 형태로)>\n",
    "### 유형 1 : Json파일 -> Str -> Dict"
   ]
  },
  {
   "cell_type": "markdown",
   "id": "fe6b3a6a",
   "metadata": {},
   "source": [
    "[loads : 문자열을 읽을 때 사용]\n",
    "\n",
    "01. Json파일을 Str로 읽기 : file.read()\n",
    "02. Str을 Dict로 : json.loads()\n",
    "\n",
    "with open('student.json', 'r') as file :\n",
    "    file.read()\n",
    "    read_file = json.loads(file.read())"
   ]
  },
  {
   "cell_type": "markdown",
   "id": "5ccbc22b",
   "metadata": {},
   "source": [
    "### 유형 2 : Json파일 -> Dict (곧바로 변환)"
   ]
  },
  {
   "cell_type": "markdown",
   "id": "2ac98f4a",
   "metadata": {},
   "source": [
    "[load : 파일을 읽을 때 사용]\n",
    "\n",
    "with open('student.json', 'r') as file :\n",
    "    #json.load(파일객체)\n",
    "    read_file = json.load(file)"
   ]
  },
  {
   "cell_type": "markdown",
   "id": "00121dcc",
   "metadata": {},
   "source": [
    "#### 연습용 파일\n",
    "json 파일의 구조 : 리스트, key-value의 중층형태\n",
    "e.g. {key : [{key2: value}, {key3:value}  ...... ]}"
   ]
  },
  {
   "cell_type": "code",
   "execution_count": 6,
   "id": "e921a3e4",
   "metadata": {},
   "outputs": [
    {
     "data": {
      "text/plain": [
       "{'student': [{'name': 'hong', 'website': 'daum.net', 'from': 'jeju'},\n",
       "  {'name': 'park', 'website': 'google.com', 'from': 'Busan'},\n",
       "  {'name': 'kim', 'website': 'naver.com', 'from': 'Seoul'}]}"
      ]
     },
     "execution_count": 6,
     "metadata": {},
     "output_type": "execute_result"
    }
   ],
   "source": [
    "import requests\n",
    "import json\n",
    "import pandas as pd\n",
    "\n",
    "data = {}\n",
    "## element 추가\n",
    "data['student'] = []\n",
    "\n",
    "## student Key의 list Value에 요소 추가\n",
    "data['student'].append({\n",
    "    'name' : 'hong',\n",
    "    'website' : 'daum.net',\n",
    "    'from' : 'jeju'\n",
    "})\n",
    "\n",
    "data['student'].append({\n",
    "    'name' : 'park',\n",
    "    'website' : 'google.com',\n",
    "    'from' : 'Busan'\n",
    "})\n",
    "\n",
    "data['student'].append({\n",
    "    'name' : 'kim',\n",
    "    'website' : 'naver.com',\n",
    "    'from' : 'Seoul'\n",
    "})\n",
    "\n",
    "data"
   ]
  },
  {
   "cell_type": "code",
   "execution_count": 4,
   "id": "434f945c",
   "metadata": {},
   "outputs": [
    {
     "name": "stdout",
     "output_type": "stream",
     "text": [
      "hong\n",
      "park\n",
      "kim\n"
     ]
    }
   ],
   "source": [
    "## 학생의 이름 출력\n",
    "for name in data['student'] :\n",
    "    print(name['name'])"
   ]
  },
  {
   "cell_type": "markdown",
   "id": "e267ad92",
   "metadata": {},
   "source": [
    "## <Json 파일 Dataframe으로 변환 (normalize)>\n",
    "(딕셔너리를 Dataframe의 형태로 변환해주는 메서드)"
   ]
  },
  {
   "cell_type": "code",
   "execution_count": 7,
   "id": "43763451",
   "metadata": {},
   "outputs": [],
   "source": [
    "### json 파일 요청\n",
    "headers = {'user-agent' :'Mozilla/5.0 (Windows NT 10.0; Win64; x64) AppleWebKit/537.36 (KHTML, like Gecko) Chrome/101.0.4951.67 Safari/537.36'}\n",
    "\n",
    "url = r'https://finance.naver.com/world/worldDayListJson.naver?symbol=SPI@SPX&fdtc=0&page=1'\n",
    "\n",
    "httpResponse = requests.get(url, headers=headers)"
   ]
  },
  {
   "cell_type": "code",
   "execution_count": 8,
   "id": "af285d52",
   "metadata": {},
   "outputs": [],
   "source": [
    "### json 파일 -> str -> 딕셔너리 형태로 변환\n",
    "dict_data = json.loads(httpResponse.text)"
   ]
  },
  {
   "cell_type": "code",
   "execution_count": 9,
   "id": "dc107107",
   "metadata": {},
   "outputs": [
    {
     "data": {
      "text/html": [
       "<div>\n",
       "<style scoped>\n",
       "    .dataframe tbody tr th:only-of-type {\n",
       "        vertical-align: middle;\n",
       "    }\n",
       "\n",
       "    .dataframe tbody tr th {\n",
       "        vertical-align: top;\n",
       "    }\n",
       "\n",
       "    .dataframe thead th {\n",
       "        text-align: right;\n",
       "    }\n",
       "</style>\n",
       "<table border=\"1\" class=\"dataframe\">\n",
       "  <thead>\n",
       "    <tr style=\"text-align: right;\">\n",
       "      <th></th>\n",
       "      <th>symb</th>\n",
       "      <th>xymd</th>\n",
       "      <th>open</th>\n",
       "      <th>high</th>\n",
       "      <th>low</th>\n",
       "      <th>clos</th>\n",
       "      <th>diff</th>\n",
       "      <th>rate</th>\n",
       "      <th>gvol</th>\n",
       "    </tr>\n",
       "  </thead>\n",
       "  <tbody>\n",
       "    <tr>\n",
       "      <th>0</th>\n",
       "      <td>SPI@SPX</td>\n",
       "      <td>20220527</td>\n",
       "      <td>4077.43</td>\n",
       "      <td>4158.49</td>\n",
       "      <td>4077.43</td>\n",
       "      <td>4158.24</td>\n",
       "      <td>100.40</td>\n",
       "      <td>2.47</td>\n",
       "      <td>2166465380</td>\n",
       "    </tr>\n",
       "    <tr>\n",
       "      <th>1</th>\n",
       "      <td>SPI@SPX</td>\n",
       "      <td>20220526</td>\n",
       "      <td>3984.60</td>\n",
       "      <td>4075.14</td>\n",
       "      <td>3984.60</td>\n",
       "      <td>4057.84</td>\n",
       "      <td>79.11</td>\n",
       "      <td>1.99</td>\n",
       "      <td>2403570880</td>\n",
       "    </tr>\n",
       "    <tr>\n",
       "      <th>2</th>\n",
       "      <td>SPI@SPX</td>\n",
       "      <td>20220525</td>\n",
       "      <td>3929.59</td>\n",
       "      <td>3999.33</td>\n",
       "      <td>3925.03</td>\n",
       "      <td>3978.73</td>\n",
       "      <td>37.25</td>\n",
       "      <td>0.95</td>\n",
       "      <td>2334088570</td>\n",
       "    </tr>\n",
       "    <tr>\n",
       "      <th>3</th>\n",
       "      <td>SPI@SPX</td>\n",
       "      <td>20220524</td>\n",
       "      <td>3942.94</td>\n",
       "      <td>3955.68</td>\n",
       "      <td>3875.13</td>\n",
       "      <td>3941.48</td>\n",
       "      <td>-32.27</td>\n",
       "      <td>-0.81</td>\n",
       "      <td>2436606100</td>\n",
       "    </tr>\n",
       "    <tr>\n",
       "      <th>4</th>\n",
       "      <td>SPI@SPX</td>\n",
       "      <td>20220523</td>\n",
       "      <td>3919.42</td>\n",
       "      <td>3981.88</td>\n",
       "      <td>3909.04</td>\n",
       "      <td>3973.75</td>\n",
       "      <td>72.39</td>\n",
       "      <td>1.86</td>\n",
       "      <td>2388208960</td>\n",
       "    </tr>\n",
       "    <tr>\n",
       "      <th>5</th>\n",
       "      <td>SPI@SPX</td>\n",
       "      <td>20220520</td>\n",
       "      <td>3927.76</td>\n",
       "      <td>3943.42</td>\n",
       "      <td>3810.32</td>\n",
       "      <td>3901.36</td>\n",
       "      <td>0.57</td>\n",
       "      <td>0.01</td>\n",
       "      <td>3002384990</td>\n",
       "    </tr>\n",
       "    <tr>\n",
       "      <th>6</th>\n",
       "      <td>SPI@SPX</td>\n",
       "      <td>20220519</td>\n",
       "      <td>3899.00</td>\n",
       "      <td>3945.96</td>\n",
       "      <td>3876.58</td>\n",
       "      <td>3900.79</td>\n",
       "      <td>-22.89</td>\n",
       "      <td>-0.58</td>\n",
       "      <td>2774295100</td>\n",
       "    </tr>\n",
       "    <tr>\n",
       "      <th>7</th>\n",
       "      <td>SPI@SPX</td>\n",
       "      <td>20220518</td>\n",
       "      <td>4051.98</td>\n",
       "      <td>4051.98</td>\n",
       "      <td>3911.91</td>\n",
       "      <td>3923.68</td>\n",
       "      <td>-165.17</td>\n",
       "      <td>-4.04</td>\n",
       "      <td>2712127310</td>\n",
       "    </tr>\n",
       "    <tr>\n",
       "      <th>8</th>\n",
       "      <td>SPI@SPX</td>\n",
       "      <td>20220517</td>\n",
       "      <td>4052.00</td>\n",
       "      <td>4090.72</td>\n",
       "      <td>4033.93</td>\n",
       "      <td>4088.85</td>\n",
       "      <td>80.84</td>\n",
       "      <td>2.02</td>\n",
       "      <td>2458409820</td>\n",
       "    </tr>\n",
       "    <tr>\n",
       "      <th>9</th>\n",
       "      <td>SPI@SPX</td>\n",
       "      <td>20220516</td>\n",
       "      <td>4013.02</td>\n",
       "      <td>4046.46</td>\n",
       "      <td>3983.99</td>\n",
       "      <td>4008.01</td>\n",
       "      <td>-15.88</td>\n",
       "      <td>-0.39</td>\n",
       "      <td>2213704710</td>\n",
       "    </tr>\n",
       "  </tbody>\n",
       "</table>\n",
       "</div>"
      ],
      "text/plain": [
       "      symb      xymd     open     high      low     clos    diff  rate  \\\n",
       "0  SPI@SPX  20220527  4077.43  4158.49  4077.43  4158.24  100.40  2.47   \n",
       "1  SPI@SPX  20220526  3984.60  4075.14  3984.60  4057.84   79.11  1.99   \n",
       "2  SPI@SPX  20220525  3929.59  3999.33  3925.03  3978.73   37.25  0.95   \n",
       "3  SPI@SPX  20220524  3942.94  3955.68  3875.13  3941.48  -32.27 -0.81   \n",
       "4  SPI@SPX  20220523  3919.42  3981.88  3909.04  3973.75   72.39  1.86   \n",
       "5  SPI@SPX  20220520  3927.76  3943.42  3810.32  3901.36    0.57  0.01   \n",
       "6  SPI@SPX  20220519  3899.00  3945.96  3876.58  3900.79  -22.89 -0.58   \n",
       "7  SPI@SPX  20220518  4051.98  4051.98  3911.91  3923.68 -165.17 -4.04   \n",
       "8  SPI@SPX  20220517  4052.00  4090.72  4033.93  4088.85   80.84  2.02   \n",
       "9  SPI@SPX  20220516  4013.02  4046.46  3983.99  4008.01  -15.88 -0.39   \n",
       "\n",
       "         gvol  \n",
       "0  2166465380  \n",
       "1  2403570880  \n",
       "2  2334088570  \n",
       "3  2436606100  \n",
       "4  2388208960  \n",
       "5  3002384990  \n",
       "6  2774295100  \n",
       "7  2712127310  \n",
       "8  2458409820  \n",
       "9  2213704710  "
      ]
     },
     "execution_count": 9,
     "metadata": {},
     "output_type": "execute_result"
    }
   ],
   "source": [
    "table = pd.json_normalize(dict_data)\n",
    "table"
   ]
  }
 ],
 "metadata": {
  "kernelspec": {
   "display_name": "ex_kernel",
   "language": "python",
   "name": "ex"
  },
  "language_info": {
   "codemirror_mode": {
    "name": "ipython",
    "version": 3
   },
   "file_extension": ".py",
   "mimetype": "text/x-python",
   "name": "python",
   "nbconvert_exporter": "python",
   "pygments_lexer": "ipython3",
   "version": "3.8.13"
  }
 },
 "nbformat": 4,
 "nbformat_minor": 5
}
