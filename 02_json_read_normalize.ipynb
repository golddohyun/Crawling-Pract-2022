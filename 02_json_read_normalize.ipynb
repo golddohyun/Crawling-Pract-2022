{
 "cells": [
  {
   "cell_type": "markdown",
   "id": "ef658f30",
   "metadata": {},
   "source": [
    "JSON\n",
    "- JavaScript Object Notation\n",
    "- 경량의 데이터 교환 방식\n",
    "- 사람이 읽고 쓰기 쉽고, 컴퓨터가 분석하고 생성하기 쉬움\n",
    "- 완벽하게 언어로부터 독립적. 특정 언어에 국한X\n",
    "- 데이터의 형태가 key:value쌍으로 구성됨"
   ]
  },
  {
   "cell_type": "markdown",
   "id": "e904f6ac",
   "metadata": {},
   "source": [
    "## <dictionary를 json 파일로 변환>\n",
    "### 방법 1 : dictionary(dict) -> str -> json파일"
   ]
  },
  {
   "cell_type": "markdown",
   "id": "73c3e926",
   "metadata": {},
   "source": [
    "01. dict 형태의 data를 str로 변경 : json.dumps()\n",
    "str_data = json.dumps(data)\n",
    "자료형 : str\n",
    "\n",
    "02. 파일열기 -> 쓰기를 통해 json 확장자로 저장\n",
    "with open('student.json', 'w') as file:\n",
    "    file.write(str_data)"
   ]
  },
  {
   "cell_type": "markdown",
   "id": "72fa807b",
   "metadata": {},
   "source": [
    "### 방법 2 : dictionary(dict) -> json파일"
   ]
  },
  {
   "cell_type": "markdown",
   "id": "17770f93",
   "metadata": {},
   "source": [
    "* 파일열기 -> 쓰기\n",
    "with open('student2.json', 'w') as file :\n",
    "    json.dump(data, file)"
   ]
  },
  {
   "cell_type": "markdown",
   "id": "5037c273",
   "metadata": {},
   "source": [
    "## <json 파일 읽기 (str 또는 dict 형태로)>\n",
    "### 유형 1 : Json파일 -> Str -> Dict"
   ]
  },
  {
   "cell_type": "markdown",
   "id": "fe6b3a6a",
   "metadata": {},
   "source": [
    "[loads : 문자열을 읽을 때 사용]\n",
    "\n",
    "01. Json파일을 Str로 읽기 : file.read()\n",
    "02. Str을 Dict로 : json.loads()\n",
    "\n",
    "with open('student.json', 'r') as file :\n",
    "    file.read()\n",
    "    read_file = json.loads(file.read())"
   ]
  },
  {
   "cell_type": "markdown",
   "id": "5ccbc22b",
   "metadata": {},
   "source": [
    "### 유형 2 : Json파일 -> Dict (곧바로 변환)"
   ]
  },
  {
   "cell_type": "markdown",
   "id": "2ac98f4a",
   "metadata": {},
   "source": [
    "[load : 파일을 읽을 때 사용]\n",
    "\n",
    "with open('student.json', 'r') as file :\n",
    "    #json.load(파일객체)\n",
    "    read_file = json.load(file)"
   ]
  },
  {
   "cell_type": "markdown",
   "id": "00121dcc",
   "metadata": {},
   "source": [
    "#### 연습용 파일\n",
    "json 파일의 구조 : 리스트, key-value의 중층형태\n",
    "e.g. {key : [{key2: value}, {key3:value}  ...... ]}"
   ]
  },
  {
   "cell_type": "code",
   "execution_count": 2,
   "id": "e921a3e4",
   "metadata": {},
   "outputs": [
    {
     "data": {
      "text/plain": [
       "{'student': [{'name': 'hong', 'website': 'daum.net', 'from': 'jeju'},\n",
       "  {'name': 'park', 'website': 'google.com', 'from': 'Busan'},\n",
       "  {'name': 'kim', 'website': 'naver.com', 'from': 'Seoul'}]}"
      ]
     },
     "execution_count": 2,
     "metadata": {},
     "output_type": "execute_result"
    }
   ],
   "source": [
    "import json\n",
    "\n",
    "data = {}\n",
    "## element 추가\n",
    "data['student'] = []\n",
    "\n",
    "## student Key의 list Value에 요소 추가\n",
    "data['student'].append({\n",
    "    'name' : 'hong',\n",
    "    'website' : 'daum.net',\n",
    "    'from' : 'jeju'\n",
    "})\n",
    "\n",
    "data['student'].append({\n",
    "    'name' : 'park',\n",
    "    'website' : 'google.com',\n",
    "    'from' : 'Busan'\n",
    "})\n",
    "\n",
    "data['student'].append({\n",
    "    'name' : 'kim',\n",
    "    'website' : 'naver.com',\n",
    "    'from' : 'Seoul'\n",
    "})\n",
    "\n",
    "data"
   ]
  },
  {
   "cell_type": "code",
   "execution_count": 4,
   "id": "434f945c",
   "metadata": {},
   "outputs": [
    {
     "name": "stdout",
     "output_type": "stream",
     "text": [
      "hong\n",
      "park\n",
      "kim\n"
     ]
    }
   ],
   "source": [
    "## 학생의 이름 출력\n",
    "for name in data['student'] :\n",
    "    print(name['name'])"
   ]
  }
 ],
 "metadata": {
  "kernelspec": {
   "display_name": "ex_kernel",
   "language": "python",
   "name": "ex"
  },
  "language_info": {
   "codemirror_mode": {
    "name": "ipython",
    "version": 3
   },
   "file_extension": ".py",
   "mimetype": "text/x-python",
   "name": "python",
   "nbconvert_exporter": "python",
   "pygments_lexer": "ipython3",
   "version": "3.8.13"
  }
 },
 "nbformat": 4,
 "nbformat_minor": 5
}
