{
 "cells": [
  {
   "cell_type": "markdown",
   "id": "6ea3289e",
   "metadata": {},
   "source": [
    "## 구글 검색창에 리팩터링 입력 후 페이지 이동"
   ]
  },
  {
   "cell_type": "code",
   "execution_count": 1,
   "id": "39e0bba5",
   "metadata": {},
   "outputs": [],
   "source": [
    "from selenium import webdriver\n",
    "from selenium.webdriver.common.by import By\n",
    "from selenium.webdriver.common.keys import Keys\n",
    "from time import sleep"
   ]
  },
  {
   "cell_type": "code",
   "execution_count": 2,
   "id": "d664c849",
   "metadata": {
    "collapsed": true
   },
   "outputs": [
    {
     "ename": "NoSuchElementException",
     "evalue": "Message: no such element: Unable to locate element: {\"method\":\"css selector\",\"selector\":\"input.searchInput--37MDR\"}\n  (Session info: chrome=102.0.5005.63)\nStacktrace:\nBacktrace:\n\tOrdinal0 [0x0114D953+2414931]\n\tOrdinal0 [0x010DF5E1+1963489]\n\tOrdinal0 [0x00FCC6B8+837304]\n\tOrdinal0 [0x00FF9500+1021184]\n\tOrdinal0 [0x00FF979B+1021851]\n\tOrdinal0 [0x01026502+1205506]\n\tOrdinal0 [0x010144E4+1131748]\n\tOrdinal0 [0x01024812+1198098]\n\tOrdinal0 [0x010142B6+1131190]\n\tOrdinal0 [0x00FEE860+976992]\n\tOrdinal0 [0x00FEF756+980822]\n\tGetHandleVerifier [0x013BCC62+2510274]\n\tGetHandleVerifier [0x013AF760+2455744]\n\tGetHandleVerifier [0x011DEABA+551962]\n\tGetHandleVerifier [0x011DD916+547446]\n\tOrdinal0 [0x010E5F3B+1990459]\n\tOrdinal0 [0x010EA898+2009240]\n\tOrdinal0 [0x010EA985+2009477]\n\tOrdinal0 [0x010F3AD1+2046673]\n\tBaseThreadInitThunk [0x7700FA29+25]\n\tRtlGetAppContainerNamedObjectPath [0x77BF7A7E+286]\n\tRtlGetAppContainerNamedObjectPath [0x77BF7A4E+238]\n",
     "output_type": "error",
     "traceback": [
      "\u001b[1;31m---------------------------------------------------------------------------\u001b[0m",
      "\u001b[1;31mNoSuchElementException\u001b[0m                    Traceback (most recent call last)",
      "Input \u001b[1;32mIn [2]\u001b[0m, in \u001b[0;36m<cell line: 10>\u001b[1;34m()\u001b[0m\n\u001b[0;32m      7\u001b[0m sleep(\u001b[38;5;241m3\u001b[39m)\n\u001b[0;32m      9\u001b[0m \u001b[38;5;66;03m## 03. 검색창 인식 : Css Selector을 통해서 수색\u001b[39;00m\n\u001b[1;32m---> 10\u001b[0m input_text \u001b[38;5;241m=\u001b[39m \u001b[43mdriver\u001b[49m\u001b[38;5;241;43m.\u001b[39;49m\u001b[43mfind_element\u001b[49m\u001b[43m(\u001b[49m\u001b[43mby\u001b[49m\u001b[38;5;241;43m=\u001b[39;49m\u001b[43mBy\u001b[49m\u001b[38;5;241;43m.\u001b[39;49m\u001b[43mCSS_SELECTOR\u001b[49m\u001b[43m,\u001b[49m\u001b[43m \u001b[49m\u001b[43mvalue\u001b[49m\u001b[43m \u001b[49m\u001b[38;5;241;43m=\u001b[39;49m\u001b[38;5;124;43m'\u001b[39;49m\u001b[38;5;124;43minput.searchInput--37MDR\u001b[39;49m\u001b[38;5;124;43m'\u001b[39;49m\u001b[43m)\u001b[49m\n\u001b[0;32m     11\u001b[0m sleep(\u001b[38;5;241m1\u001b[39m)\n\u001b[0;32m     13\u001b[0m \u001b[38;5;66;03m## 04. 검색창에 검색어 리팩터링 입력\u001b[39;00m\n",
      "File \u001b[1;32m~\\anaconda3\\envs\\ex\\lib\\site-packages\\selenium\\webdriver\\remote\\webdriver.py:1251\u001b[0m, in \u001b[0;36mWebDriver.find_element\u001b[1;34m(self, by, value)\u001b[0m\n\u001b[0;32m   1248\u001b[0m     by \u001b[38;5;241m=\u001b[39m By\u001b[38;5;241m.\u001b[39mCSS_SELECTOR\n\u001b[0;32m   1249\u001b[0m     value \u001b[38;5;241m=\u001b[39m \u001b[38;5;124m'\u001b[39m\u001b[38;5;124m[name=\u001b[39m\u001b[38;5;124m\"\u001b[39m\u001b[38;5;132;01m%s\u001b[39;00m\u001b[38;5;124m\"\u001b[39m\u001b[38;5;124m]\u001b[39m\u001b[38;5;124m'\u001b[39m \u001b[38;5;241m%\u001b[39m value\n\u001b[1;32m-> 1251\u001b[0m \u001b[38;5;28;01mreturn\u001b[39;00m \u001b[38;5;28;43mself\u001b[39;49m\u001b[38;5;241;43m.\u001b[39;49m\u001b[43mexecute\u001b[49m\u001b[43m(\u001b[49m\u001b[43mCommand\u001b[49m\u001b[38;5;241;43m.\u001b[39;49m\u001b[43mFIND_ELEMENT\u001b[49m\u001b[43m,\u001b[49m\u001b[43m \u001b[49m\u001b[43m{\u001b[49m\n\u001b[0;32m   1252\u001b[0m \u001b[43m    \u001b[49m\u001b[38;5;124;43m'\u001b[39;49m\u001b[38;5;124;43musing\u001b[39;49m\u001b[38;5;124;43m'\u001b[39;49m\u001b[43m:\u001b[49m\u001b[43m \u001b[49m\u001b[43mby\u001b[49m\u001b[43m,\u001b[49m\n\u001b[0;32m   1253\u001b[0m \u001b[43m    \u001b[49m\u001b[38;5;124;43m'\u001b[39;49m\u001b[38;5;124;43mvalue\u001b[39;49m\u001b[38;5;124;43m'\u001b[39;49m\u001b[43m:\u001b[49m\u001b[43m \u001b[49m\u001b[43mvalue\u001b[49m\u001b[43m}\u001b[49m\u001b[43m)\u001b[49m[\u001b[38;5;124m'\u001b[39m\u001b[38;5;124mvalue\u001b[39m\u001b[38;5;124m'\u001b[39m]\n",
      "File \u001b[1;32m~\\anaconda3\\envs\\ex\\lib\\site-packages\\selenium\\webdriver\\remote\\webdriver.py:430\u001b[0m, in \u001b[0;36mWebDriver.execute\u001b[1;34m(self, driver_command, params)\u001b[0m\n\u001b[0;32m    428\u001b[0m response \u001b[38;5;241m=\u001b[39m \u001b[38;5;28mself\u001b[39m\u001b[38;5;241m.\u001b[39mcommand_executor\u001b[38;5;241m.\u001b[39mexecute(driver_command, params)\n\u001b[0;32m    429\u001b[0m \u001b[38;5;28;01mif\u001b[39;00m response:\n\u001b[1;32m--> 430\u001b[0m     \u001b[38;5;28;43mself\u001b[39;49m\u001b[38;5;241;43m.\u001b[39;49m\u001b[43merror_handler\u001b[49m\u001b[38;5;241;43m.\u001b[39;49m\u001b[43mcheck_response\u001b[49m\u001b[43m(\u001b[49m\u001b[43mresponse\u001b[49m\u001b[43m)\u001b[49m\n\u001b[0;32m    431\u001b[0m     response[\u001b[38;5;124m'\u001b[39m\u001b[38;5;124mvalue\u001b[39m\u001b[38;5;124m'\u001b[39m] \u001b[38;5;241m=\u001b[39m \u001b[38;5;28mself\u001b[39m\u001b[38;5;241m.\u001b[39m_unwrap_value(\n\u001b[0;32m    432\u001b[0m         response\u001b[38;5;241m.\u001b[39mget(\u001b[38;5;124m'\u001b[39m\u001b[38;5;124mvalue\u001b[39m\u001b[38;5;124m'\u001b[39m, \u001b[38;5;28;01mNone\u001b[39;00m))\n\u001b[0;32m    433\u001b[0m     \u001b[38;5;28;01mreturn\u001b[39;00m response\n",
      "File \u001b[1;32m~\\anaconda3\\envs\\ex\\lib\\site-packages\\selenium\\webdriver\\remote\\errorhandler.py:247\u001b[0m, in \u001b[0;36mErrorHandler.check_response\u001b[1;34m(self, response)\u001b[0m\n\u001b[0;32m    245\u001b[0m         alert_text \u001b[38;5;241m=\u001b[39m value[\u001b[38;5;124m'\u001b[39m\u001b[38;5;124malert\u001b[39m\u001b[38;5;124m'\u001b[39m]\u001b[38;5;241m.\u001b[39mget(\u001b[38;5;124m'\u001b[39m\u001b[38;5;124mtext\u001b[39m\u001b[38;5;124m'\u001b[39m)\n\u001b[0;32m    246\u001b[0m     \u001b[38;5;28;01mraise\u001b[39;00m exception_class(message, screen, stacktrace, alert_text)  \u001b[38;5;66;03m# type: ignore[call-arg]  # mypy is not smart enough here\u001b[39;00m\n\u001b[1;32m--> 247\u001b[0m \u001b[38;5;28;01mraise\u001b[39;00m exception_class(message, screen, stacktrace)\n",
      "\u001b[1;31mNoSuchElementException\u001b[0m: Message: no such element: Unable to locate element: {\"method\":\"css selector\",\"selector\":\"input.searchInput--37MDR\"}\n  (Session info: chrome=102.0.5005.63)\nStacktrace:\nBacktrace:\n\tOrdinal0 [0x0114D953+2414931]\n\tOrdinal0 [0x010DF5E1+1963489]\n\tOrdinal0 [0x00FCC6B8+837304]\n\tOrdinal0 [0x00FF9500+1021184]\n\tOrdinal0 [0x00FF979B+1021851]\n\tOrdinal0 [0x01026502+1205506]\n\tOrdinal0 [0x010144E4+1131748]\n\tOrdinal0 [0x01024812+1198098]\n\tOrdinal0 [0x010142B6+1131190]\n\tOrdinal0 [0x00FEE860+976992]\n\tOrdinal0 [0x00FEF756+980822]\n\tGetHandleVerifier [0x013BCC62+2510274]\n\tGetHandleVerifier [0x013AF760+2455744]\n\tGetHandleVerifier [0x011DEABA+551962]\n\tGetHandleVerifier [0x011DD916+547446]\n\tOrdinal0 [0x010E5F3B+1990459]\n\tOrdinal0 [0x010EA898+2009240]\n\tOrdinal0 [0x010EA985+2009477]\n\tOrdinal0 [0x010F3AD1+2046673]\n\tBaseThreadInitThunk [0x7700FA29+25]\n\tRtlGetAppContainerNamedObjectPath [0x77BF7A7E+286]\n\tRtlGetAppContainerNamedObjectPath [0x77BF7A4E+238]\n"
     ]
    }
   ],
   "source": [
    "## 01. ChromeDriver 설정\n",
    "driver = webdriver.Chrome()\n",
    "\n",
    "## 02. 구글 접속 + 휴식\n",
    "url = 'https://www.google.com/'\n",
    "driver.get(url)\n",
    "sleep(3)\n",
    "\n",
    "## 03. 검색창 인식 : Css Selector을 통해서 수색\n",
    "input_text = driver.find_element(by=By.CSS_SELECTOR, value ='input.gLFyf.gsfi')\n",
    "sleep(1)\n",
    "\n",
    "## 04. 검색창에 검색어 리팩터링 입력\n",
    "query = '리팩터링'\n",
    "input_text.send_keys(query)\n",
    "sleep(1)\n",
    "\n",
    "## 05. 검색 버튼 임력\n",
    "input_text.send_keys(Keys.RETURN)\n",
    "sleep(3)"
   ]
  },
  {
   "cell_type": "code",
   "execution_count": null,
   "id": "aa1d4441",
   "metadata": {},
   "outputs": [],
   "source": []
  }
 ],
 "metadata": {
  "kernelspec": {
   "display_name": "ex_kernel",
   "language": "python",
   "name": "ex"
  },
  "language_info": {
   "codemirror_mode": {
    "name": "ipython",
    "version": 3
   },
   "file_extension": ".py",
   "mimetype": "text/x-python",
   "name": "python",
   "nbconvert_exporter": "python",
   "pygments_lexer": "ipython3",
   "version": "3.8.13"
  }
 },
 "nbformat": 4,
 "nbformat_minor": 5
}
