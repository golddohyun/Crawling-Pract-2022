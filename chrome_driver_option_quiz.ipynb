{
 "cells": [
  {
   "cell_type": "code",
   "execution_count": null,
   "id": "bd094c0b",
   "metadata": {},
   "outputs": [
    {
     "name": "stdout",
     "output_type": "stream",
     "text": [
      "1. 크롬 웹 드라이버 실행\n",
      "2. W3School 웹 페이지 실행\n",
      "3. W3School 검색창에 input 텍스트 입력\n",
      "4. input 검색 결과창 닫기\n",
      "5. 그냥 입력했어요 입력 및 삭제\n"
     ]
    }
   ],
   "source": [
    "from selenium import webdriver\n",
    "from selenium.webdriver.common.by import By\n",
    "from selenium.webdriver.common.keys import Keys\n",
    "from time import sleep\n",
    "\n",
    "chrome_options = webdriver.ChromeOptions()\n",
    "chrome_options.add_argument('--window-size=360,800') \n",
    "\n",
    "## 웹 드라이버 실행\n",
    "driver = webdriver.Chrome(options=chrome_options)\n",
    "print('1. 크롬 웹 드라이버 실행')\n",
    "\n",
    "\n",
    "## 검색창 띄우기\n",
    "url = 'https://www.w3schools.com/'\n",
    "driver.get(url)\n",
    "print('2. W3School 웹 페이지 실행')\n",
    "\n",
    "\n",
    "## 검색창에 input 검색\n",
    "input_text = driver.find_element(by=By.CSS_SELECTOR, value ='#search2')\n",
    "sleep(2)\n",
    "input_text.send_keys('input')\n",
    "sleep(2)\n",
    "input_text.send_keys(Keys.RETURN)\n",
    "sleep(2)\n",
    "print('3. W3School 검색창에 input 텍스트 입력')\n",
    "\n",
    "\n",
    "## input 결과창 닫기\n",
    "driver.find_element(by=By.XPATH, value='//*[@id=\"___gcse_0\"]/div/div/div[1]/div[1]').click()\n",
    "sleep(2)\n",
    "input_text.clear()\n",
    "sleep(2)\n",
    "print('4. input 검색 결과창 닫기')\n",
    "\n",
    "\n",
    "## 검색창에 텍스트 입력 및 삭제\n",
    "input_text.send_keys('그냥 입력했어요')\n",
    "sleep(2)\n",
    "input_text.clear()\n",
    "print('5. 그냥 입력했어요 입력 및 삭제')\n",
    "\n",
    "sleep(3)\n",
    "driver.close()"
   ]
  },
  {
   "cell_type": "code",
   "execution_count": null,
   "id": "7aca0971",
   "metadata": {},
   "outputs": [],
   "source": []
  }
 ],
 "metadata": {
  "kernelspec": {
   "display_name": "ex_kernel",
   "language": "python",
   "name": "ex"
  },
  "language_info": {
   "codemirror_mode": {
    "name": "ipython",
    "version": 3
   },
   "file_extension": ".py",
   "mimetype": "text/x-python",
   "name": "python",
   "nbconvert_exporter": "python",
   "pygments_lexer": "ipython3",
   "version": "3.8.13"
  }
 },
 "nbformat": 4,
 "nbformat_minor": 5
}
